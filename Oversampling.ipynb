{
 "cells": [
  {
   "cell_type": "markdown",
   "metadata": {},
   "source": [
    "# Oversampling and impact on SNR"
   ]
  },
  {
   "cell_type": "code",
   "execution_count": 1,
   "metadata": {},
   "outputs": [],
   "source": [
    "%matplotlib inline\n",
    "# To create the slider\n",
    "from ipywidgets import interact\n",
    "# We will be using numpy\n",
    "import numpy as np\n",
    "# We will be using matplotlib for plotting\n",
    "import matplotlib.pyplot as plt\n",
    "# We will be using scipy.signal for filtering\n",
    "import scipy.signal as scipy_signal\n",
    "from pylab import *"
   ]
  },
  {
   "cell_type": "code",
   "execution_count": 2,
   "metadata": {},
   "outputs": [],
   "source": [
    "fs=1024; #sampling frequency in Hz\n",
    "f=[400] #list of frequencies of sine waves that will make the signal waveform\n",
    "t=2; #time for the signal"
   ]
  },
  {
   "cell_type": "markdown",
   "metadata": {},
   "source": [
    "We will create a signal which will be a sine of all the frequencies in the list 'f'. You can add your own frequencies to the list"
   ]
  },
  {
   "cell_type": "code",
   "execution_count": 3,
   "metadata": {},
   "outputs": [],
   "source": [
    "num_samples=int(fs*t)\n",
    "sample_indices=np.arange(num_samples)\n",
    "time_indices=sample_indices/fs\n",
    "signal=np.zeros(num_samples,dtype=float)\n",
    "signal_power=20*np.log10(0.5);\n",
    "for frequency in f:\n",
    "    signal=signal+np.sin(2*np.pi*frequency*sample_indices/fs)\n",
    "\n",
    "#This is just the peak to peak value for the signal\n",
    "full_scale_range=np.max(signal)-np.min(signal)"
   ]
  },
  {
   "cell_type": "markdown",
   "metadata": {},
   "source": [
    "Lets plot the signal and see how it looks like:"
   ]
  },
  {
   "cell_type": "code",
   "execution_count": 4,
   "metadata": {},
   "outputs": [
    {
     "data": {
      "text/plain": [
       "Text(0.5, 0, 'Time(s)')"
      ]
     },
     "execution_count": 4,
     "metadata": {},
     "output_type": "execute_result"
    },
    {
     "data": {
      "image/png": "[encoded data removed]",
      "text/plain": [
       "<Figure size 432x288 with 1 Axes>"
      ]
     },
     "metadata": {
      "needs_background": "light"
     },
     "output_type": "display_data"
    }
   ],
   "source": [
    "plt.figure()\n",
    "plt.plot(time_indices,signal)\n",
    "plt.grid()\n",
    "plt.xlabel('Time(s)')"
   ]
  },
  {
   "cell_type": "markdown",
   "metadata": {},
   "source": [
    "Lets do a FFT of the signal and see the result.`"
   ]
  },
  {
   "cell_type": "code",
   "execution_count": 5,
   "metadata": {},
   "outputs": [
    {
     "data": {
      "text/plain": [
       "Text(0.5, 0, 'Frequencies(Hz)')"
      ]
     },
     "execution_count": 5,
     "metadata": {},
     "output_type": "execute_result"
    },
    {
     "data": {
      "image/png": "[encoded data removed]",
      "text/plain": [
       "<Figure size 432x288 with 1 Axes>"
      ]
     },
     "metadata": {
      "needs_background": "light"
     },
     "output_type": "display_data"
    }
   ],
   "source": [
    "signal_fft=np.fft.fft(signal)\n",
    "signal_fft_magnitude=20*np.log10(np.absolute(signal_fft)/(0.5*signal.size))\n",
    "\n",
    "frequency_axis=np.fft.fftfreq(signal.size,d=1.0/fs)\n",
    "plt.figure()\n",
    "plt.semilogx(frequency_axis[0:signal_fft.size//2],signal_fft_magnitude[0:signal_fft.size//2])\n",
    "plt.grid()\n",
    "plt.ylabel('dB')\n",
    "plt.xlabel('Frequencies(Hz)')\n"
   ]
  },
  {
   "cell_type": "markdown",
   "metadata": {},
   "source": [
    "You can see the SNR is quite high (300 dB!!).. This is to be expected because there is no noise in the signal. "
   ]
  },
  {
   "cell_type": "markdown",
   "metadata": {},
   "source": [
    "## SNR after quantization"
   ]
  },
  {
   "cell_type": "markdown",
   "metadata": {},
   "source": [
    "Unfortunately, numpy does not provide a quantizer. But its easy to make a quantizer function."
   ]
  },
  {
   "cell_type": "code",
   "execution_count": 6,
   "metadata": {},
   "outputs": [],
   "source": [
    "def quantizer(signal,quantization_step):\n",
    "    #This is a half step quantizer. Note that we are just quantizing the signal and not converting it into any codes\n",
    "    return quantization_step*np.round(signal/quantization_step)"
   ]
  },
  {
   "cell_type": "markdown",
   "metadata": {},
   "source": [
    "Because Python does not have an in-built SNR function, we need to write our SNR function."
   ]
  },
  {
   "cell_type": "code",
   "execution_count": 7,
   "metadata": {},
   "outputs": [],
   "source": [
    "def signal_to_noise(signal, signal_plus_noise):\n",
    "    noise=signal_plus_noise-signal;\n",
    "    signal_plus_noise_power=np.sum(np.square(signal_plus_noise))/signal.size\n",
    "    signal_power=np.sum(np.square(signal))/signal.size\n",
    "    noise_power=np.sum(np.square(noise))/signal.size\n",
    "    return (10*np.log10(signal_power),10*np.log10(signal_power/noise_power))"
   ]
  },
  {
   "cell_type": "markdown",
   "metadata": {},
   "source": [
    "We will define a function that takes the number of bits of a quantizer as an input and generates the FFT of the output of the quantizer. We are doing this so that we can use the slider to change the value of bits of the quantizer and see the impact on FFT"
   ]
  },
  {
   "cell_type": "code",
   "execution_count": 8,
   "metadata": {
    "scrolled": false
   },
   "outputs": [
    {
     "data": {
      "application/vnd.jupyter.widget-view+json": {
       "model_id": "64be88c36d3c46f9945141496008ffea",
       "version_major": 2,
       "version_minor": 0
      },
      "text/plain": [
       "interactive(children=(IntSlider(value=12, description='bits_quantizer', max=24, min=1), Output()), _dom_classe…"
      ]
     },
     "metadata": {},
     "output_type": "display_data"
    }
   ],
   "source": [
    "def quantization_output(bits_quantizer):\n",
    "    quantization_step=full_scale_range/(2**bits_quantizer)\n",
    "    signal_quantized=quantizer(signal,quantization_step)\n",
    "\n",
    "    #First lets plot the quantized signal\n",
    "    #plt.figure()\n",
    "    #plt.plot(time_indices,signal_quantized,time_indices,signal)\n",
    "    #plt.grid()\n",
    "    #plt.xlabel('Time(s)')\n",
    "\n",
    "    theoretical_snr=(6.02*bits_quantizer)+1.76;\n",
    "    (signal_power,snr)=signal_to_noise(signal,signal_quantized)\n",
    "    print('Signal power is {}dB'.format(signal_power))\n",
    "    print('SNR is {} dB'.format(snr))\n",
    "    print('Theoretical SNR is {} dB'.format(theoretical_snr))\n",
    "    #Lets take the FFT and see the result\n",
    "    signal_quantized_fft=np.fft.fft(signal_quantized)\n",
    "    signal_quantized_fft_magnitude=20*np.log10(np.absolute(signal_quantized_fft)/(0.5*signal_quantized.size)+1e-16)\n",
    "    #the addition of 1e-16 at the end is done so that log10 function from numpy package does not crap out\n",
    "    \n",
    "    plt.figure()\n",
    "    plt.semilogx(frequency_axis[0:signal_quantized_fft.size//2],signal_quantized_fft_magnitude[0:signal_fft.size//2])\n",
    "    plt.grid()\n",
    "    plt.ylabel('dB')\n",
    "    plt.xlabel('Frequencies(Hz)')\n",
    "\n",
    "#add a slider to play around with the number of bits in the quantizer\n",
    "interact(quantization_output,bits_quantizer=(1,24));"
   ]
  },
  {
   "cell_type": "code",
   "execution_count": 9,
   "metadata": {},
   "outputs": [
    {
     "data": {
      "application/vnd.jupyter.widget-view+json": {
       "model_id": "7025f5c2f3eb415fbccb656220c08516",
       "version_major": 2,
       "version_minor": 0
      },
      "text/plain": [
       "interactive(children=(IntSlider(value=3, description='order', max=6, min=1), IntSlider(value=12, description='…"
      ]
     },
     "metadata": {},
     "output_type": "display_data"
    },
    {
     "data": {
      "text/plain": [
       "<function __main__.oversampling_adc(order, bits_quantizer=12)>"
      ]
     },
     "execution_count": 9,
     "metadata": {},
     "output_type": "execute_result"
    }
   ],
   "source": [
    "def oversampling_adc(order,bits_quantizer=12):\n",
    "    #In this function we will oversample the signal and see the impact of oversampling on SNR\n",
    "    fs_oversampled=fs*(2**order)\n",
    "    num_oversampled_samples=int(t*fs_oversampled)\n",
    "    sample_oversampled_indices=np.arange(num_oversampled_samples)\n",
    "    time_oversampled_indices=sample_indices/fs_oversampled\n",
    "    signal_oversampled=np.zeros(num_oversampled_samples,dtype=float)\n",
    "    for frequency in f:\n",
    "        signal_oversampled=signal_oversampled+np.sin(2*np.pi*frequency*sample_oversampled_indices/fs_oversampled)\n",
    "\n",
    "    # One might be tempted to ask why not just take the original signal and interpolate it.\n",
    "    # There are two reasons why it would be wrong:\n",
    "    # --> Interpolation is sort of a filtering which will add its own frequency domain artifacts\n",
    "    # --> That is not how oversampling works in real life. \n",
    "    \n",
    "    # Lets quantize the signal\n",
    "    quantization_step=full_scale_range/(2**bits_quantizer)\n",
    "    oversampled_quantized=quantizer(signal_oversampled,quantization_step)\n",
    "    (signal_power,snr)=signal_to_noise(signal_oversampled,oversampled_quantized)\n",
    "    print('Signal power is {}dB'.format(signal_power))\n",
    "    print('SNR is {} dB'.format(snr))\n",
    "    \n",
    "    # Lets do a FFT on the signal\n",
    "    oversampled_fft=np.fft.fft(oversampled_quantized)\n",
    "    oversampled_fft_magnitude=20*np.log10((np.absolute(oversampled_fft)/(0.5*oversampled_fft.size))+1e-16)\n",
    "    oversampled_frequency_axis=np.fft.fftfreq(signal_oversampled.size,d=1.0/fs_oversampled)\n",
    "    plt.figure()\n",
    "    plt.grid()\n",
    "    plt.semilogx(oversampled_frequency_axis[0:oversampled_frequency_axis.size//2],oversampled_fft_magnitude[0:oversampled_frequency_axis.size//2])\n",
    "    plt.ylabel('dB')\n",
    "    plt.xlabel('Frequency(Hz)')\n",
    "    plt.ylim([-150,10])\n",
    "interact(oversampling_adc,order=(1,6))\n",
    "\n",
    "    "
   ]
  },
  {
   "cell_type": "markdown",
   "metadata": {},
   "source": [
    "See that oversampling has done nothing to the SNR. But you can see that the signal is in the far left of the plot. There is not a lot of information on the right hand side. We can filter those components out and see the impact on SNR. "
   ]
  },
  {
   "cell_type": "markdown",
   "metadata": {},
   "source": [
    "## Oversampling with a filter"
   ]
  },
  {
   "cell_type": "code",
   "execution_count": 10,
   "metadata": {},
   "outputs": [
    {
     "data": {
      "application/vnd.jupyter.widget-view+json": {
       "model_id": "75a97726be9a4384bc753908cc25d4ec",
       "version_major": 2,
       "version_minor": 0
      },
      "text/plain": [
       "interactive(children=(IntSlider(value=3, description='order', max=6, min=1), IntSlider(value=12, description='…"
      ]
     },
     "metadata": {},
     "output_type": "display_data"
    },
    {
     "data": {
      "text/plain": [
       "<function __main__.oversampling_adc_with_filter(order, bits_quantizer=12)>"
      ]
     },
     "execution_count": 10,
     "metadata": {},
     "output_type": "execute_result"
    }
   ],
   "source": [
    "def oversampling_adc_with_filter(order,bits_quantizer=12):\n",
    "    #In this function we will oversample the signal and see the impact of oversampling on SNR\n",
    "    fs_oversampled=fs*(2**order)\n",
    "    num_oversampled_samples=int(t*fs_oversampled)\n",
    "    sample_oversampled_indices=np.arange(num_oversampled_samples)\n",
    "    time_oversampled_indices=sample_indices/fs_oversampled\n",
    "    signal_oversampled=np.zeros(num_oversampled_samples,dtype=float)\n",
    "    for frequency in f:\n",
    "        signal_oversampled=signal_oversampled+np.sin(2*np.pi*frequency*sample_oversampled_indices/fs_oversampled)\n",
    "\n",
    "    # One might be tempted to ask why not just take the original signal and interpolate it.\n",
    "    # There are two reasons why it would be wrong:\n",
    "    # --> Interpolation is sort of a filtering which will add its own frequency domain artifacts\n",
    "    # --> That is not how oversampling works in real life. \n",
    "    \n",
    "    # Lets quantize the signal\n",
    "    quantization_step=full_scale_range/(2**bits_quantizer)\n",
    "    oversampled_quantized=quantizer(signal_oversampled,quantization_step)\n",
    "    (signal_power,snr)=signal_to_noise(signal_oversampled,oversampled_quantized)\n",
    "    print('------ Before filtering ------')\n",
    "    print('Signal power is {}dB'.format(signal_power))\n",
    "    print('SNR is {} dB'.format(snr))\n",
    "    print(' -----------------------------')\n",
    "    \n",
    "    # Lets add a low pass filter with 256 taps, cut-off frequency as twice the maximum frequency in the list 'f'\n",
    "    fir_filter=scipy_signal.firwin(256,500,fs=fs_oversampled)\n",
    "    plt.figure()\n",
    "    w,h=scipy_signal.freqz(fir_filter,fs=2*np.pi*fs_oversampled)\n",
    "    w=w/(2*np.pi)\n",
    "    filtered_signal=scipy_signal.convolve(oversampled_quantized,fir_filter,mode='same',method='direct')\n",
    "    filtered_signal=filtered_signal[0:oversampled_quantized.size]\n",
    "    \n",
    "    #Lets find the SNR after filtering\n",
    "    (signal_power,snr_filtered)=signal_to_noise(signal_oversampled,filtered_signal)\n",
    "\n",
    "    print('------ After filtering ------')\n",
    "    print('Signal power is {}dB'.format(signal_power))\n",
    "    print('SNR is {} dB'.format(snr_filtered))\n",
    "    print(' -----------------------------')\n",
    "    \n",
    "    \n",
    "    # Lets do a FFT on the signal\n",
    "    filtered_signal_fft=np.fft.fft(filtered_signal)\n",
    "    filtered_signal_fft_magnitude=20*np.log10((np.absolute(filtered_signal_fft)/(0.5*filtered_signal_fft.size))+1e-16)\n",
    "    oversampled_frequency_axis=np.fft.fftfreq(signal_oversampled.size,d=1.0/fs_oversampled)\n",
    "    plt.figure()\n",
    "    plt.grid()\n",
    "    plt.semilogx(oversampled_frequency_axis[0:oversampled_frequency_axis.size//2],filtered_signal_fft_magnitude[0:oversampled_frequency_axis.size//2])\n",
    "    plt.ylabel('dB')\n",
    "    plt.xlabel('Frequency(Hz)')\n",
    "    plt.ylim([-150,10])\n",
    "    k=np.where(frequency_axis==f[0])\n",
    "interact(oversampling_adc_with_filter,order=(1,6))"
   ]
  },
  {
   "cell_type": "markdown",
   "metadata": {},
   "source": [
    "As you can see here, the signal appears to be much cleaner. But then why is the SNR so bad?\n",
    "It is because the way we have defined the SNR function. We defined noise as the time difference between (signal + quantization noise) and signal. The problem with that approach appears when we are trying to filter the signal. Filtering the signal introduces delay between the original signal and the filtered signal. That will come as noise which will be incorrect."
   ]
  },
  {
   "cell_type": "code",
   "execution_count": null,
   "metadata": {},
   "outputs": [],
   "source": []
  }
 ],
 "metadata": {
  "kernelspec": {
   "display_name": "Python 3",
   "language": "python",
   "name": "python3"
  },
  "language_info": {
   "codemirror_mode": {
    "name": "ipython",
    "version": 3
   },
   "file_extension": ".py",
   "mimetype": "text/x-python",
   "name": "python",
   "nbconvert_exporter": "python",
   "pygments_lexer": "ipython3",
   "version": "3.7.3"
  }
 },
 "nbformat": 4,
 "nbformat_minor": 2
}
